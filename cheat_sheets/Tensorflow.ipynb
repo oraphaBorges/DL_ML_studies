{
 "cells": [
  {
   "cell_type": "markdown",
   "metadata": {},
   "source": [
    "# Tensorflow"
   ]
  },
  {
   "cell_type": "markdown",
   "metadata": {},
   "source": [
    "## O que é um tensor?\n",
    "> Um tensor é uma array multidimencional com dados\n",
    "\n",
    "E na framework ela pode ser representada e utilizada de formas diferentes\n",
    "\n",
    "N-Dimensões|Entidade Matemática|Representação\n",
    "---|---|---\n",
    "0|Escalar|s = 335\n",
    "1|Vetor| v \\[3,5,6,1\\]\n",
    "2|Matriz| m = \\[ \\[1,2,3 \\], \\[4,5,6\\], \\[7,8,9\\] \\]\n",
    "3|3-Tensor(Cubo)| t = \\[ [ \\[1,2,3 \\], \\[4,5,6\\], \\[7,8,9\\] \\], \\[ \\[1,2,3 \\], \\[4,5,6\\], \\[7,8,9\\] \\] \\]\n",
    "n|n-Tensor|....\n",
    "\n",
    "\n",
    "Sendo assim o tensorflow é uma mistrura de Tersors e Flow (Um caminho, direção, fluxo) em uma execução em forma de Grafo. Utilizando 3 elementos\n",
    "- Contantes: São valores Imutaveis\n",
    "    ```python\n",
    "        a = tf.constant(10)\n",
    "    ```\n",
    "- Placeholder: É como se fosse uma variavel mas sem a necessidade de ter um valor dentro, o qual poderá ser alocado mais tarde em tempo de execução o que facilita na construção do Grafo\n",
    "    ```python\n",
    "        a = tf.placeholder(tf.float32)\n",
    "    ```\n",
    "- Varaveis: Necessariamente uma variavel precisa receber um valor de inicialização\n",
    "    ```python\n",
    "        a = tf.Variables([20],tf.int32)\n",
    "    ```\n"
   ]
  },
  {
   "cell_type": "code",
   "execution_count": 1,
   "metadata": {},
   "outputs": [
    {
     "name": "stderr",
     "output_type": "stream",
     "text": [
      "/usr/local/lib/python3.6/dist-packages/tensorflow/python/framework/dtypes.py:516: FutureWarning: Passing (type, 1) or '1type' as a synonym of type is deprecated; in a future version of numpy, it will be understood as (type, (1,)) / '(1,)type'.\n",
      "  _np_qint8 = np.dtype([(\"qint8\", np.int8, 1)])\n",
      "/usr/local/lib/python3.6/dist-packages/tensorflow/python/framework/dtypes.py:517: FutureWarning: Passing (type, 1) or '1type' as a synonym of type is deprecated; in a future version of numpy, it will be understood as (type, (1,)) / '(1,)type'.\n",
      "  _np_quint8 = np.dtype([(\"quint8\", np.uint8, 1)])\n",
      "/usr/local/lib/python3.6/dist-packages/tensorflow/python/framework/dtypes.py:518: FutureWarning: Passing (type, 1) or '1type' as a synonym of type is deprecated; in a future version of numpy, it will be understood as (type, (1,)) / '(1,)type'.\n",
      "  _np_qint16 = np.dtype([(\"qint16\", np.int16, 1)])\n",
      "/usr/local/lib/python3.6/dist-packages/tensorflow/python/framework/dtypes.py:519: FutureWarning: Passing (type, 1) or '1type' as a synonym of type is deprecated; in a future version of numpy, it will be understood as (type, (1,)) / '(1,)type'.\n",
      "  _np_quint16 = np.dtype([(\"quint16\", np.uint16, 1)])\n",
      "/usr/local/lib/python3.6/dist-packages/tensorflow/python/framework/dtypes.py:520: FutureWarning: Passing (type, 1) or '1type' as a synonym of type is deprecated; in a future version of numpy, it will be understood as (type, (1,)) / '(1,)type'.\n",
      "  _np_qint32 = np.dtype([(\"qint32\", np.int32, 1)])\n",
      "/usr/local/lib/python3.6/dist-packages/tensorflow/python/framework/dtypes.py:525: FutureWarning: Passing (type, 1) or '1type' as a synonym of type is deprecated; in a future version of numpy, it will be understood as (type, (1,)) / '(1,)type'.\n",
      "  np_resource = np.dtype([(\"resource\", np.ubyte, 1)])\n",
      "/usr/local/lib/python3.6/dist-packages/tensorboard/compat/tensorflow_stub/dtypes.py:541: FutureWarning: Passing (type, 1) or '1type' as a synonym of type is deprecated; in a future version of numpy, it will be understood as (type, (1,)) / '(1,)type'.\n",
      "  _np_qint8 = np.dtype([(\"qint8\", np.int8, 1)])\n",
      "/usr/local/lib/python3.6/dist-packages/tensorboard/compat/tensorflow_stub/dtypes.py:542: FutureWarning: Passing (type, 1) or '1type' as a synonym of type is deprecated; in a future version of numpy, it will be understood as (type, (1,)) / '(1,)type'.\n",
      "  _np_quint8 = np.dtype([(\"quint8\", np.uint8, 1)])\n",
      "/usr/local/lib/python3.6/dist-packages/tensorboard/compat/tensorflow_stub/dtypes.py:543: FutureWarning: Passing (type, 1) or '1type' as a synonym of type is deprecated; in a future version of numpy, it will be understood as (type, (1,)) / '(1,)type'.\n",
      "  _np_qint16 = np.dtype([(\"qint16\", np.int16, 1)])\n",
      "/usr/local/lib/python3.6/dist-packages/tensorboard/compat/tensorflow_stub/dtypes.py:544: FutureWarning: Passing (type, 1) or '1type' as a synonym of type is deprecated; in a future version of numpy, it will be understood as (type, (1,)) / '(1,)type'.\n",
      "  _np_quint16 = np.dtype([(\"quint16\", np.uint16, 1)])\n",
      "/usr/local/lib/python3.6/dist-packages/tensorboard/compat/tensorflow_stub/dtypes.py:545: FutureWarning: Passing (type, 1) or '1type' as a synonym of type is deprecated; in a future version of numpy, it will be understood as (type, (1,)) / '(1,)type'.\n",
      "  _np_qint32 = np.dtype([(\"qint32\", np.int32, 1)])\n",
      "/usr/local/lib/python3.6/dist-packages/tensorboard/compat/tensorflow_stub/dtypes.py:550: FutureWarning: Passing (type, 1) or '1type' as a synonym of type is deprecated; in a future version of numpy, it will be understood as (type, (1,)) / '(1,)type'.\n",
      "  np_resource = np.dtype([(\"resource\", np.ubyte, 1)])\n"
     ]
    }
   ],
   "source": [
    "import tensorflow as tf"
   ]
  },
  {
   "cell_type": "markdown",
   "metadata": {},
   "source": [
    "### Constantes"
   ]
  },
  {
   "cell_type": "code",
   "execution_count": 2,
   "metadata": {},
   "outputs": [
    {
     "name": "stdout",
     "output_type": "stream",
     "text": [
      "[<tf.Tensor 'Const:0' shape=() dtype=int32>, <tf.Tensor 'Const_1:0' shape=() dtype=float32>, <tf.Tensor 'Const_2:0' shape=() dtype=string>, <tf.Tensor 'Const_3:0' shape=() dtype=bool>]\n"
     ]
    }
   ],
   "source": [
    "constante1 = tf.constant(10)\n",
    "constante2 = tf.constant(3.14)\n",
    "constante3 = tf.constant('Lemon Pie')\n",
    "constante4 = tf.constant(True)\n",
    "\n",
    "print([constante1,constante2,constante3,constante4])"
   ]
  },
  {
   "cell_type": "markdown",
   "metadata": {},
   "source": [
    "Para a execusão de algo no tensorflow é necessário fazer isso em uma Session"
   ]
  },
  {
   "cell_type": "code",
   "execution_count": 3,
   "metadata": {},
   "outputs": [],
   "source": [
    "session = tf.Session()"
   ]
  },
  {
   "cell_type": "code",
   "execution_count": 4,
   "metadata": {},
   "outputs": [
    {
     "name": "stdout",
     "output_type": "stream",
     "text": [
      "[10, 3.14, b'Lemon Pie', True]\n"
     ]
    }
   ],
   "source": [
    "print(session.run([constante1,constante2,constante3,constante4]))"
   ]
  },
  {
   "cell_type": "code",
   "execution_count": 5,
   "metadata": {},
   "outputs": [
    {
     "name": "stdout",
     "output_type": "stream",
     "text": [
      "Operações unidimencionais [50, 600, 0.6666666666666666]\n",
      "Operações multidimencionais [array([2, 4, 6], dtype=int32), array([1, 4, 9], dtype=int32), array([1., 1., 1.])]\n",
      "Operações com string: b'Hello World!'\n"
     ]
    }
   ],
   "source": [
    "# Operações unidimencionais\n",
    "adicao = tf.constant(20) + tf.constant(30)\n",
    "multiplicacao = tf.constant(20) * tf.constant(30)\n",
    "divisao = tf.constant(20) / tf.constant(30)\n",
    "\n",
    "print('Operações unidimencionais',session.run([adicao,multiplicacao,divisao]))\n",
    "\n",
    "# Operações multidimencionais\n",
    "adicao = tf.constant([1,2,3]) + tf.constant([1,2,3])\n",
    "multiplicacao = tf.constant([1,2,3]) * tf.constant([1,2,3])\n",
    "divisao = tf.constant([1,2,3]) / tf.constant([1,2,3])\n",
    "\n",
    "print('Operações multidimencionais',session.run([adicao,multiplicacao,divisao]))\n",
    "\n",
    "string1 = tf.constant('Hello ')\n",
    "string2 = tf.constant('World!')\n",
    "\n",
    "print('Operações com string:',session.run(string1 + string2))"
   ]
  },
  {
   "cell_type": "markdown",
   "metadata": {},
   "source": [
    "### Placeholders\n",
    "Na hora da execução o feed_dict é um dicionário que recebera os valores que envolvem os placeholders para serem consultados em tempo de execução"
   ]
  },
  {
   "cell_type": "code",
   "execution_count": 6,
   "metadata": {},
   "outputs": [
    {
     "name": "stdout",
     "output_type": "stream",
     "text": [
      "Operações com placeholders: 10\n",
      "Operações com placeholders: [10 12 18  8]\n",
      "Operações com placeholders: [b'Eu me chamo Raphael' b'Eu me chamo bob']\n"
     ]
    }
   ],
   "source": [
    "a = tf.placeholder(tf.int32)\n",
    "b = a * 2\n",
    "\n",
    "print('Operações com placeholders:',session.run(b,feed_dict={a:5}))\n",
    "print('Operações com placeholders:',session.run(b,feed_dict={a:[5,6,9,4]}))\n",
    "\n",
    "str_nome = tf.placeholder(tf.string)\n",
    "apresentation = \"Eu me chamo \" + str_nome\n",
    "print('Operações com placeholders:',session.run(apresentation,feed_dict={str_nome:['Raphael','bob']}))"
   ]
  },
  {
   "cell_type": "markdown",
   "metadata": {},
   "source": [
    "### Variaveis\n",
    "As variaveis elas precisam ser criadas e depois acionadas/iniciadas para serem utilizada e elas funcionam como ponteiros, por tanto se vocês faz uma atribuição de forma simplificada ao atualizar ou alterar um valor as demais também serão atualizadas, por isso é importante usar o  ```var2 = tf.assign(var1,[21]) ``` para que seja atribuído apenas o valor naquela variavel, mesmo se for fazer uma mudança de valor na variavel."
   ]
  },
  {
   "cell_type": "code",
   "execution_count": 7,
   "metadata": {},
   "outputs": [
    {
     "name": "stdout",
     "output_type": "stream",
     "text": [
      "iniciando as variaveis None\n",
      "var1 [20]\n",
      "var2 [20]\n",
      "\n",
      "var1 atualizado [21]\n",
      "var2 [21]\n",
      "\n",
      "var1 [21]\n",
      "var2 atualizado [20]\n",
      "\n",
      "var1 atualizado [22]\n",
      "var2 [20]\n"
     ]
    }
   ],
   "source": [
    "var1 = tf.Variable([20],tf.int32)\n",
    "\n",
    "init = tf.global_variables_initializer()\n",
    "print('iniciando as variaveis',session.run(init))\n",
    "\n",
    "print('var1',session.run(var1))\n",
    "var2 = var1\n",
    "print('var2',session.run(var2))\n",
    "\n",
    "print()\n",
    "var1 = tf.assign(var1,[21])\n",
    "print('var1 atualizado',session.run(var1))\n",
    "print('var2',session.run(var2))\n",
    "\n",
    "print()\n",
    "var2 = tf.assign(var2,[20])\n",
    "print('var1',session.run(var1))\n",
    "print('var2 atualizado',session.run(var2))\n",
    "\n",
    "print()\n",
    "var1 = tf.assign(var1,[22])\n",
    "print('var1 atualizado',session.run(var1))\n",
    "print('var2',session.run(var2))"
   ]
  },
  {
   "cell_type": "markdown",
   "metadata": {},
   "source": [
    "### Exemplo 1: Linear Model"
   ]
  },
  {
   "cell_type": "code",
   "execution_count": 8,
   "metadata": {},
   "outputs": [
    {
     "name": "stdout",
     "output_type": "stream",
     "text": [
      "Linear Model -  W*x+b: [15 35 45 65 95]\n"
     ]
    }
   ],
   "source": [
    "W = tf.Variable([10],tf.int32)\n",
    "b = tf.Variable([5],tf.int32)\n",
    "x = tf.placeholder(tf.int32)\n",
    "\n",
    "linear_model = W*x+b\n",
    "\n",
    "init_lm = tf.global_variables_initializer()\n",
    "session.run(init_lm)\n",
    "print('Linear Model -  W*x+b:',session.run(linear_model,feed_dict={x:[1,3,4,6,9]}))"
   ]
  },
  {
   "cell_type": "markdown",
   "metadata": {},
   "source": [
    "### Exemplo 2: [MNIST](http://yann.lecun.com/exdb/mnist/) dataset\n",
    "detalhes gerais sobre este dataset e os conceitos deste exemplo se encontram [aqui - video](https://www.youtube.com/watch?v=t_DdvgY71NE&ref=hackr.io) e [aqui - pdf](http://conteudo.icmc.usp.br/pessoas/moacir/papers/Ponti_Costa_Como-funciona-o-Deep-Learning_2017.pdf)"
   ]
  },
  {
   "cell_type": "markdown",
   "metadata": {},
   "source": [
    "#### Conhecendo do Datase"
   ]
  },
  {
   "cell_type": "code",
   "execution_count": 9,
   "metadata": {},
   "outputs": [],
   "source": [
    "from tensorflow.examples.tutorials.mnist import input_data"
   ]
  },
  {
   "cell_type": "code",
   "execution_count": 20,
   "metadata": {},
   "outputs": [
    {
     "name": "stdout",
     "output_type": "stream",
     "text": [
      "Extracting MINST_data/train-images-idx3-ubyte.gz\n",
      "Extracting MINST_data/train-labels-idx1-ubyte.gz\n",
      "Extracting MINST_data/t10k-images-idx3-ubyte.gz\n",
      "Extracting MINST_data/t10k-labels-idx1-ubyte.gz\n"
     ]
    }
   ],
   "source": [
    "mnist = input_data.read_data_sets('MINST_data/',one_hot=True)"
   ]
  },
  {
   "cell_type": "code",
   "execution_count": 11,
   "metadata": {},
   "outputs": [
    {
     "name": "stdout",
     "output_type": "stream",
     "text": [
      "Type data \t| Shape (qnt img x array pixel)\n",
      "Train: \t\t| (55000, 784)\n",
      "Test: \t\t| (10000, 784)\n",
      "Validation: \t| (5000, 784)\n"
     ]
    }
   ],
   "source": [
    "print('Type data \\t| Shape (qnt img x array pixel)')\n",
    "print('Train: \\t\\t|',mnist.train.images.shape)\n",
    "print('Test: \\t\\t|',mnist.test.images.shape)\n",
    "print('Validation: \\t|',mnist.validation.images.shape)"
   ]
  },
  {
   "cell_type": "code",
   "execution_count": 12,
   "metadata": {},
   "outputs": [
    {
     "name": "stdout",
     "output_type": "stream",
     "text": [
      "Lista \t\t [0. 0. 0. 0. 0. 0. 0. 1. 0. 0.]\n",
      "Representação\t [0, 1, 2, 3, 4, 5, 6, 7, 8, 9]\n"
     ]
    },
    {
     "data": {
      "image/png": "[encoded data removed]",
      "text/plain": [
       "<Figure size 432x288 with 1 Axes>"
      ]
     },
     "metadata": {
      "needs_background": "light"
     },
     "output_type": "display_data"
    }
   ],
   "source": [
    "import numpy as np\n",
    "import matplotlib.pyplot as plt\n",
    "\n",
    "dim = int(np.sqrt(mnist.train.images.shape[1])) # tranform the vector in a matrix finding the dimention\n",
    "plt.imshow(mnist.train.images[0].reshape(dim,dim),cmap=\"gray\")\n",
    "print('Lista \\t\\t',mnist.train.labels[0])\n",
    "print('Representação\\t',[0,1,2,3,4,5,6,7,8,9])"
   ]
  },
  {
   "cell_type": "code",
   "execution_count": 13,
   "metadata": {},
   "outputs": [],
   "source": [
    "x = tf.placeholder(tf.float32,shape=[None,784])\n",
    "W = tf.Variable(tf.zeros([784,10]))\n",
    "b = tf.Variable(tf.zeros([10]))"
   ]
  },
  {
   "cell_type": "markdown",
   "metadata": {},
   "source": [
    "- **Função de Ativação**:  função de ativação de um nó define a saída desse nó, dada uma entrada ou conjunto de entradas.\n",
    "$$ Softmax(x_i) = \\frac{e^{x_i} } {\\sum_i{e^{x_i}} }$$"
   ]
  },
  {
   "cell_type": "code",
   "execution_count": 14,
   "metadata": {},
   "outputs": [],
   "source": [
    "# função de ativação aplicado na regressão linear y = W*x + b\n",
    "y = tf.nn.softmax(tf.matmul(x,W)+b)"
   ]
  },
  {
   "cell_type": "code",
   "execution_count": 15,
   "metadata": {},
   "outputs": [],
   "source": [
    "# valores de previsão\n",
    "y_ = tf.placeholder(tf.float32,shape=[None,10])"
   ]
  },
  {
   "cell_type": "markdown",
   "metadata": {},
   "source": [
    "- **Função de Custo**: função que computa a qualidade da predição responsável por dizer quão longe estamos da predição ideal e portanto quantifica o “custo” ou “perda” ao aceitarmos a predição gerada pelos parâmetros atuais do modelo\n",
    "$$ H_{y'}(y) := - \\sum_{i}{(y'_i log(y_i) + (1 - y'_i) log(1-y_i)) } $$"
   ]
  },
  {
   "cell_type": "code",
   "execution_count": 16,
   "metadata": {},
   "outputs": [],
   "source": [
    "# Função de custo\n",
    "cross_entropy = tf.reduce_mean(-tf.reduce_sum(y_ - tf.log(y), reduction_indices=[1]))"
   ]
  },
  {
   "cell_type": "code",
   "execution_count": 17,
   "metadata": {},
   "outputs": [],
   "source": [
    "# Treino do dataset usando o Gradiente Descente com uma taxa de aprendizado\n",
    "# e minizando o erro com a função de custo Cross Entropy\n",
    "train_step = tf.train.GradientDescentOptimizer(learning_rate=0.01).minimize(cross_entropy)"
   ]
  },
  {
   "cell_type": "code",
   "execution_count": 18,
   "metadata": {},
   "outputs": [],
   "source": [
    "# O Interective Session  torna-se a sessão padrão, por tanto é possível chamar as funções\n",
    "# run() e eval() sem especificara sessão\n",
    "session = tf.InteractiveSession() \n",
    "tf.global_variables_initializer().run()"
   ]
  },
  {
   "cell_type": "code",
   "execution_count": 22,
   "metadata": {},
   "outputs": [
    {
     "name": "stdout",
     "output_type": "stream",
     "text": [
      "Acurácia 0.098 %\n"
     ]
    }
   ],
   "source": [
    "for i in range(10):\n",
    "    batch_x,batch_y = mnist.train.next_batch(100)\n",
    "    session.run(train_step,feed_dict={x: batch_x, y_: batch_y})\n",
    "\n",
    "predicao_correta = tf.equal(tf.argmax(y,1),tf.argmax(y_,1))\n",
    "acuracia = tf.reduce_mean(tf.cast(predicao_correta,tf.float32))\n",
    "\n",
    "print('Acurácia',session.run(acuracia,feed_dict={x:mnist.test.images, y_:mnist.test.labels}),'%')\n"
   ]
  }
 ],
 "metadata": {
  "kernelspec": {
   "display_name": "Python 3",
   "language": "python",
   "name": "python3"
  },
  "language_info": {
   "codemirror_mode": {
    "name": "ipython",
    "version": 3
   },
   "file_extension": ".py",
   "mimetype": "text/x-python",
   "name": "python",
   "nbconvert_exporter": "python",
   "pygments_lexer": "ipython3",
   "version": "3.6.9"
  }
 },
 "nbformat": 4,
 "nbformat_minor": 4
}
