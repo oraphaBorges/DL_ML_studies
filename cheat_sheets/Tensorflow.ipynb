{
 "cells": [
  {
   "cell_type": "markdown",
   "metadata": {},
   "source": [
    "# Tensorflow"
   ]
  },
  {
   "cell_type": "markdown",
   "metadata": {},
   "source": [
    "## O que é um tensor?\n",
    "> Um tensor é uma array multidimencional com dados\n",
    "\n",
    "E na framework ela pode ser representada e utilizada de formas diferentes\n",
    "\n",
    "N-Dimensões|Entidade Matemática|Representação\n",
    "---|---|---\n",
    "0|Escalar|s = 335\n",
    "1|Vetor| v \\[3,5,6,1\\]\n",
    "2|Matriz| m = \\[ \\[1,2,3 \\], \\[4,5,6\\], \\[7,8,9\\] \\]\n",
    "3|3-Tensor(Cubo)| t = \\[ [ \\[1,2,3 \\], \\[4,5,6\\], \\[7,8,9\\] \\], \\[ \\[1,2,3 \\], \\[4,5,6\\], \\[7,8,9\\] \\] \\]\n",
    "n|n-Tensor|....\n",
    "\n",
    "\n",
    "Sendo assim o tensorflow é uma mistrura de Tersors e Flow (Um caminho, direção, fluxo) em uma execução em forma de Grafo. Utilizando 3 elementos\n",
    "- Contantes: São valores Imutaveis\n",
    "    ```python\n",
    "        a = tf.constant(10)\n",
    "    ```\n",
    "- Placeholder: É como se fosse uma variavel mas sem a necessidade de ter um valor dentro, o qual poderá ser alocado mais tarde em tempo de execução o que facilita na construção do Grafo\n",
    "    ```python\n",
    "        a = tf.placeholder(tf.float32)\n",
    "    ```\n",
    "- Varaveis: Necessariamente uma variavel precisa receber um valor de inicialização\n",
    "    ```python\n",
    "        a = tf.Variables([20],tf.int32)\n",
    "    ```\n"
   ]
  },
  {
   "cell_type": "code",
   "execution_count": 15,
   "metadata": {},
   "outputs": [],
   "source": [
    "import tensorflow as tf"
   ]
  },
  {
   "cell_type": "markdown",
   "metadata": {},
   "source": [
    "### Constantes"
   ]
  },
  {
   "cell_type": "code",
   "execution_count": 4,
   "metadata": {},
   "outputs": [
    {
     "name": "stdout",
     "output_type": "stream",
     "text": [
      "[<tf.Tensor 'Const_4:0' shape=() dtype=int32>, <tf.Tensor 'Const_5:0' shape=() dtype=float32>, <tf.Tensor 'Const_6:0' shape=() dtype=string>, <tf.Tensor 'Const_7:0' shape=() dtype=bool>]\n"
     ]
    }
   ],
   "source": [
    "constante1 = tf.constant(10)\n",
    "constante2 = tf.constant(3.14)\n",
    "constante3 = tf.constant('Lemon Pie')\n",
    "constante4 = tf.constant(True)\n",
    "\n",
    "print([constante1,constante2,constante3,constante4])"
   ]
  },
  {
   "cell_type": "markdown",
   "metadata": {},
   "source": [
    "Para a execusão de algo no tensorflow é necessário fazer isso em uma Session"
   ]
  },
  {
   "cell_type": "code",
   "execution_count": 5,
   "metadata": {},
   "outputs": [],
   "source": [
    "session = tf.Session()"
   ]
  },
  {
   "cell_type": "code",
   "execution_count": 10,
   "metadata": {},
   "outputs": [
    {
     "name": "stdout",
     "output_type": "stream",
     "text": [
      "[10, 3.14, b'Lemon Pie', True]\n"
     ]
    }
   ],
   "source": [
    "print(session.run([constante1,constante2,constante3,constante4]))"
   ]
  },
  {
   "cell_type": "code",
   "execution_count": 14,
   "metadata": {},
   "outputs": [
    {
     "name": "stdout",
     "output_type": "stream",
     "text": [
      "Operações unidimencionais [50, 600, 0.6666666666666666]\n",
      "Operações multidimencionais [array([2, 4, 6], dtype=int32), array([1, 4, 9], dtype=int32), array([1., 1., 1.])]\n",
      "Operações com string: b'Hello World!'\n"
     ]
    }
   ],
   "source": [
    "# Operações unidimencionais\n",
    "adicao = tf.constant(20) + tf.constant(30)\n",
    "multiplicacao = tf.constant(20) * tf.constant(30)\n",
    "divisao = tf.constant(20) / tf.constant(30)\n",
    "\n",
    "print('Operações unidimencionais',session.run([adicao,multiplicacao,divisao]))\n",
    "\n",
    "# Operações multidimencionais\n",
    "adicao = tf.constant([1,2,3]) + tf.constant([1,2,3])\n",
    "multiplicacao = tf.constant([1,2,3]) * tf.constant([1,2,3])\n",
    "divisao = tf.constant([1,2,3]) / tf.constant([1,2,3])\n",
    "\n",
    "print('Operações multidimencionais',session.run([adicao,multiplicacao,divisao]))\n",
    "\n",
    "string1 = tf.constant('Hello ')\n",
    "string2 = tf.constant('World!')\n",
    "\n",
    "print('Operações com string:',session.run(string1 + string2))"
   ]
  },
  {
   "cell_type": "markdown",
   "metadata": {},
   "source": [
    "### Placeholders\n",
    "Na hora da execução o feed_dict é um dicionário que recebera os valores que envolvem os placeholders para serem consultados em tempo de execução"
   ]
  },
  {
   "cell_type": "code",
   "execution_count": 27,
   "metadata": {},
   "outputs": [
    {
     "name": "stdout",
     "output_type": "stream",
     "text": [
      "Operações com placeholders: 10\n",
      "Operações com placeholders: [10 12 18  8]\n",
      "Operações com placeholders: [b'Eu me chamo Raphael' b'Eu me chamo bob']\n"
     ]
    }
   ],
   "source": [
    "a = tf.placeholder(tf.int32)\n",
    "b = a * 2\n",
    "\n",
    "print('Operações com placeholders:',session.run(b,feed_dict={a:5}))\n",
    "print('Operações com placeholders:',session.run(b,feed_dict={a:[5,6,9,4]}))\n",
    "\n",
    "str_nome = tf.placeholder(tf.string)\n",
    "apresentation = \"Eu me chamo \" + str_nome\n",
    "print('Operações com placeholders:',session.run(apresentation,feed_dict={str_nome:['Raphael','bob']}))"
   ]
  },
  {
   "cell_type": "markdown",
   "metadata": {},
   "source": [
    "### Variaveis\n",
    "As variaveis elas precisam ser criadas e depois acionadas/iniciadas para serem utilizada e elas funcionam como ponteiros, por tanto se vocês faz uma atriuição de forma simplificada ao atualizar ou alterar um falor as demais também serão atualizadas, por isso é importante usar o  ```var2 = tf.assign(var1,[21]) ``` para que seja atribuido apenas o valor naquela variavel, mesmo se for fazer uma mudança de valor na variavel."
   ]
  },
  {
   "cell_type": "code",
   "execution_count": 47,
   "metadata": {},
   "outputs": [
    {
     "name": "stdout",
     "output_type": "stream",
     "text": [
      "iniciando as variaveis None\n",
      "var1 [20]\n",
      "var2 [20]\n",
      "\n",
      "var1 atualizado [21]\n",
      "var2 [21]\n",
      "\n",
      "var1 [21]\n",
      "var2 atualizado [20]\n",
      "\n",
      "var1 atualizado [22]\n",
      "var2 [20]\n"
     ]
    }
   ],
   "source": [
    "var1 = tf.Variable([20],tf.int32)\n",
    "\n",
    "init = tf.global_variables_initializer()\n",
    "print('iniciando as variaveis',session.run(init))\n",
    "\n",
    "print('var1',session.run(var1))\n",
    "var2 = var1\n",
    "print('var2',session.run(var2))\n",
    "\n",
    "print()\n",
    "var1 = tf.assign(var1,[21])\n",
    "print('var1 atualizado',session.run(var1))\n",
    "print('var2',session.run(var2))\n",
    "\n",
    "print()\n",
    "var2 = tf.assign(var2,[20])\n",
    "print('var1',session.run(var1))\n",
    "print('var2 atualizado',session.run(var2))\n",
    "\n",
    "print()\n",
    "var1 = tf.assign(var1,[22])\n",
    "print('var1 atualizado',session.run(var1))\n",
    "print('var2',session.run(var2))"
   ]
  },
  {
   "cell_type": "markdown",
   "metadata": {},
   "source": [
    "### Exemplo 1: Linear Model"
   ]
  },
  {
   "cell_type": "code",
   "execution_count": 54,
   "metadata": {},
   "outputs": [
    {
     "name": "stdout",
     "output_type": "stream",
     "text": [
      "Linear Model -  W*x+b: [15 35 45 65 95]\n"
     ]
    }
   ],
   "source": [
    "W = tf.Variable([10],tf.int32)\n",
    "b = tf.Variable([5],tf.int32)\n",
    "x = tf.placeholder(tf.int32)\n",
    "\n",
    "linear_model = W*x+b\n",
    "\n",
    "init_lm = tf.global_variables_initializer()\n",
    "session.run(init_lm)\n",
    "print('Linear Model -  W*x+b:',session.run(linear_model,feed_dict={x:[1,3,4,6,9]}))"
   ]
  }
 ],
 "metadata": {
  "kernelspec": {
   "display_name": "Python 3",
   "language": "python",
   "name": "python3"
  },
  "language_info": {
   "codemirror_mode": {
    "name": "ipython",
    "version": 3
   },
   "file_extension": ".py",
   "mimetype": "text/x-python",
   "name": "python",
   "nbconvert_exporter": "python",
   "pygments_lexer": "ipython3",
   "version": "3.6.9"
  }
 },
 "nbformat": 4,
 "nbformat_minor": 4
}
