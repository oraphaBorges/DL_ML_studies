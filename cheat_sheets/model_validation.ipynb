{
 "cells": [
  {
   "cell_type": "markdown",
   "metadata": {},
   "source": [
    "# Model Validation"
   ]
  },
  {
   "cell_type": "code",
   "execution_count": 2,
   "metadata": {},
   "outputs": [],
   "source": [
    "import numpy as np"
   ]
  },
  {
   "cell_type": "markdown",
   "metadata": {},
   "source": [
    "## Regressão"
   ]
  },
  {
   "cell_type": "markdown",
   "metadata": {},
   "source": [
    "- $R^2$ score: Coeficiente de Determinação $$R^2 = 1 - \\frac{ \\sum_{i=1}^{m} (y^{(i)}-ŷ^{(i)})^2 }{\\sum_{i=1}^{m} (y^{(i)}-\\bar{y}^{(i)})^2}$$ "
   ]
  },
  {
   "cell_type": "code",
   "execution_count": 5,
   "metadata": {},
   "outputs": [],
   "source": [
    "def R2score(y,y_hat,y_bar):\n",
    "    return 1 - ( np.sum((y - y_hat)**2) / np.sum((y - y_bar)**2) )"
   ]
  },
  {
   "cell_type": "markdown",
   "metadata": {},
   "source": [
    "- Mean square error (**MSE**): Erro médio ao quadrado $$ MSE = \\frac{1}{m}\\sum_{i=1}^{m} (y^{(i)}-ŷ^{(i)})^2 $$"
   ]
  },
  {
   "cell_type": "code",
   "execution_count": 4,
   "metadata": {},
   "outputs": [],
   "source": [
    "def MSE(y,y_hat):\n",
    "    m = y.shape[0]\n",
    "    return np.sum((y - y_hat)**2)/m"
   ]
  },
  {
   "cell_type": "markdown",
   "metadata": {},
   "source": [
    "- Root mean square error (**RMSE**): Raiz do erro médio ao quadrado $$RMSE = \\sqrt[2]{MSE}$$"
   ]
  },
  {
   "cell_type": "code",
   "execution_count": 3,
   "metadata": {},
   "outputs": [],
   "source": [
    "def RSE(y,y_hat):\n",
    "    return np.sqrt(MSE(y,y_hat))"
   ]
  },
  {
   "cell_type": "markdown",
   "metadata": {},
   "source": [
    "- Mean absolute error (**MAE**): Erro médio absoluto $$MAE = \\frac{1}{m}\\sum_{i=1}^{m} |y^{(i)}-ŷ^{(i)}|$$\n"
   ]
  },
  {
   "cell_type": "code",
   "execution_count": 6,
   "metadata": {},
   "outputs": [],
   "source": [
    "def MAE(y,y_hat):\n",
    "    m = y.shape[0]\n",
    "    return np.sum(abs(y - y_hat))/m"
   ]
  },
  {
   "cell_type": "markdown",
   "metadata": {},
   "source": [
    "- Mean absolute percent error (**MAPE**): Porcentagem do erro médio absoluto $$MAPE = \\frac{1}{n}\\sum_{i=1}^{m} \\frac{|y^{(i)}-ŷ^{(i)}|}{|y^{(i)}|} \\times 100$$"
   ]
  },
  {
   "cell_type": "code",
   "execution_count": null,
   "metadata": {},
   "outputs": [],
   "source": [
    "def MAPE(y,y_hat,n):\n",
    "    return (np.sum(abs(y - y_hat) / abs(y)) * 100) /n"
   ]
  },
  {
   "cell_type": "markdown",
   "metadata": {},
   "source": [
    "## Classificação"
   ]
  },
  {
   "cell_type": "markdown",
   "metadata": {},
   "source": [
    "Matriz de Confusão \n",
    "\n",
    "  _|Positivo|Negativo\n",
    " ---|---|---\n",
    "Negativo|Verdadeiro Positivo|Falso Negativo\n",
    "Positivo|Falso Positivo|Verdadeiro Negadivo"
   ]
  }
 ],
 "metadata": {
  "kernelspec": {
   "display_name": "Python 3",
   "language": "python",
   "name": "python3"
  },
  "language_info": {
   "codemirror_mode": {
    "name": "ipython",
    "version": 3
   },
   "file_extension": ".py",
   "mimetype": "text/x-python",
   "name": "python",
   "nbconvert_exporter": "python",
   "pygments_lexer": "ipython3",
   "version": "3.6.9"
  }
 },
 "nbformat": 4,
 "nbformat_minor": 2
}
