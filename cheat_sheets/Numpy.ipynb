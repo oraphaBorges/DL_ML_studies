{
 "cells": [
  {
   "cell_type": "markdown",
   "metadata": {},
   "source": [
    "# Numpy\n",
    "\n",
    "O numpy é uma poderosa bibliotéca amplamente utilizada para cálculos multidimencionais com Arrays, além de oferecer um grande conjuntos de operações e manipulações dessas Arrays ela bem rápida nos seus cálculos."
   ]
  },
  {
   "cell_type": "code",
   "execution_count": 2,
   "metadata": {},
   "outputs": [],
   "source": [
    "import numpy as np"
   ]
  },
  {
   "cell_type": "markdown",
   "metadata": {},
   "source": [
    "## Lista ou Array unidimencionais"
   ]
  },
  {
   "cell_type": "code",
   "execution_count": 2,
   "metadata": {},
   "outputs": [
    {
     "name": "stdout",
     "output_type": "stream",
     "text": [
      "[1 2 3 4 5]\n",
      "[1 2 3 4 5 6]\n",
      "[2 3 4 5 6]\n"
     ]
    }
   ],
   "source": [
    "# Criando uma lista\n",
    "lista = np.array([1,2,3,4,5]);\n",
    "print(lista)\n",
    "\n",
    "# Adicionando um elemento na lista\n",
    "lista = np.append(lista,[6])\n",
    "print(lista)\n",
    "\n",
    "# Removendo um elemento da lista\n",
    "# Lembrando que é informado a posição do elemento na lista\n",
    "# que será deletado\n",
    "lista = np.delete(lista,0) \n",
    "print(lista)\n"
   ]
  },
  {
   "cell_type": "markdown",
   "metadata": {},
   "source": [
    "### Operações Aritméticas com Listas"
   ]
  },
  {
   "cell_type": "code",
   "execution_count": 3,
   "metadata": {},
   "outputs": [
    {
     "name": "stdout",
     "output_type": "stream",
     "text": [
      "[1 2 3 4 5]\n",
      "[3 4 5 6 7]\n",
      "[0 1 2 3 4]\n",
      "[0 2 4 6 8]\n",
      "[ 9  9 10 11 12]\n",
      "[-9 -5 -2  1  4]\n",
      "[ 0 14 24 30 32]\n",
      "[1. 2. 3. 4. 5.]\n",
      "[ 0 14 24 30 32]\n",
      "[0.05555556 0.14285714 0.25       0.4        0.625     ]\n"
     ]
    }
   ],
   "source": [
    "l1 = np.array([1,2,3,4,5])\n",
    "print(l1)\n",
    "\n",
    "# as 3 Operações Básicas (+ , -,*)\n",
    "l1 += 2; print(l1)\n",
    "l1 -= 3; print(l1)\n",
    "l1 *= 2; print(l1)\n",
    "\n",
    "l2 = np.array([9,7,6,5,4]) \n",
    "\n",
    "l3 = l1 + l2; print(l3)\n",
    "l3 = l1 - l2; print(l3)\n",
    "l3 = l1 * l2; print(l3)\n",
    "\n",
    "# Divisão\n",
    "# Para divisão é preciso que o tipo da lista seja Flaot ou Double\n",
    "# https://docs.scipy.org/doc/numpy/reference/arrays.dtypes.html\n",
    "l1 = np.array([1,2,3,4,5], dtype='float64');print(l1)\n",
    "l1 /= 2; print(l3)\n",
    "l3 = l1 / l2; print(l3)"
   ]
  },
  {
   "cell_type": "code",
   "execution_count": 4,
   "metadata": {},
   "outputs": [
    {
     "name": "stdout",
     "output_type": "stream",
     "text": [
      "[ 1  4  9 16 25]\n",
      "[    1    64   729  4096 15625]\n",
      "[1 0 1 0 1]\n",
      "[  1.   8.  27.  64. 125.]\n",
      "[0.         4.15888308 6.59167373 8.31776617 9.65662747]\n",
      "[0.         1.80617997 2.86272753 3.61235995 4.19382003]\n",
      "[ 0.          6.          9.509775   12.         13.93156857]\n",
      "[0.69314718 4.17438727 6.59304453 8.31801028 9.65669147]\n",
      "[  2.71828183   7.3890561   20.08553692  54.59815003 148.4131591 ]\n"
     ]
    }
   ],
   "source": [
    "# Potência\n",
    "lista = np.array([1,2,3,4,5])\n",
    "lista = lista ** 2\n",
    "print(lista)\n",
    "lista **=3\n",
    "print(lista)\n",
    "\n",
    "# MOD\n",
    "mod = lista % 2\n",
    "print(mod)\n",
    "\n",
    "# Raiz\n",
    "raiz_quadrada = np.sqrt(lista)\n",
    "print(raiz_quadrada)\n",
    "\n",
    "# Log \n",
    "ln = np.log(lista) #Base ln\n",
    "print(ln)\n",
    "log10 =  np.log10(lista) #Base 10\n",
    "print(log10)\n",
    "log2 =  np.log2(lista) #Base 2\n",
    "print(log2)\n",
    "log1p =  np.log1p(lista) # == np.log(1+ ELEMENT)\n",
    "print(log1p)\n",
    "\n",
    "lista = np.array([1,2,3,4,5])\n",
    "exp = np.exp(lista) #e^x\n",
    "print(exp)"
   ]
  },
  {
   "cell_type": "markdown",
   "metadata": {},
   "source": [
    "### Dot Product - Produto do ponto\n",
    "O produto do ponto para arrays unidimencionais e nada mais que o produto interno entre 2 vetores.\n",
    "$$ a \\bullet b = |a||b|cos\\theta_{ab}$$"
   ]
  },
  {
   "cell_type": "code",
   "execution_count": 5,
   "metadata": {},
   "outputs": [
    {
     "name": "stdout",
     "output_type": "stream",
     "text": [
      "4\n",
      "4\n",
      "4\n",
      "4\n",
      "4 4\n"
     ]
    }
   ],
   "source": [
    "a = np.array([1,2])\n",
    "b = np.array([2,1])\n",
    "\n",
    "dot = 0\n",
    "\n",
    "# Calculando o produto do ponto sem numpy\n",
    "for e,f in zip(a,b):\n",
    "    dot += e*f\n",
    "    \n",
    "print(dot)\n",
    "\n",
    "# Calculando o produto do ponto com numpy\n",
    "print(np.sum(a*b))\n",
    "print((a*b).sum())\n",
    "print(np.dot(a,b))\n",
    "print(a.dot(b), b.dot(a))\n"
   ]
  },
  {
   "cell_type": "markdown",
   "metadata": {},
   "source": [
    "## Magnetude de um vetor\n",
    "\n",
    "A magnetude de um vetor é a distância entre dois ponto e este calculo se dá por:\n",
    "\n",
    "$$ |AB| = \\sqrt{x^2 + y^2}$$\n"
   ]
  },
  {
   "cell_type": "code",
   "execution_count": 6,
   "metadata": {},
   "outputs": [
    {
     "name": "stdout",
     "output_type": "stream",
     "text": [
      "2.23606797749979\n",
      "2.23606797749979\n"
     ]
    }
   ],
   "source": [
    "a = np.array([1,2])\n",
    "b = np.array([2,1])\n",
    "\n",
    "magnetude_a = np.sqrt((a*a).sum())\n",
    "print(magnetude_a)\n",
    "\n",
    "magnetude_a = np.linalg.norm(a)\n",
    "print(magnetude_a)\n"
   ]
  },
  {
   "cell_type": "markdown",
   "metadata": {},
   "source": [
    "### Cálculo do Ângulo"
   ]
  },
  {
   "cell_type": "code",
   "execution_count": 7,
   "metadata": {},
   "outputs": [
    {
     "name": "stdout",
     "output_type": "stream",
     "text": [
      "0.6435011087932847\n"
     ]
    }
   ],
   "source": [
    "a = np.array([1,2])\n",
    "b = np.array([2,1])\n",
    "\n",
    "cos_angulo = a.dot(b) / (np.linalg.norm(a) * np.linalg.norm(b))\n",
    "\n",
    "angulo = np.arccos(cos_angulo)\n",
    "print(angulo) # por padrão vem em Radianos"
   ]
  }
 ],
 "metadata": {
  "kernelspec": {
   "display_name": "Python 3",
   "language": "python",
   "name": "python3"
  },
  "language_info": {
   "codemirror_mode": {
    "name": "ipython",
    "version": 3
   },
   "file_extension": ".py",
   "mimetype": "text/x-python",
   "name": "python",
   "nbconvert_exporter": "python",
   "pygments_lexer": "ipython3",
   "version": "3.6.9"
  }
 },
 "nbformat": 4,
 "nbformat_minor": 2
}
