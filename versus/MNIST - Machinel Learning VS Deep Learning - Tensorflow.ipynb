{
 "cells": [
  {
   "cell_type": "markdown",
   "metadata": {},
   "source": [
    "# MNIST dataset - Tensorflow\n",
    "teste da aplicação encontrada no artigo [M. Ponti e G. Costa - Como funciona o Deep Learning](http://conteudo.icmc.usp.br/pessoas/moacir/papers/Ponti_Costa_Como-funciona-o-Deep-Learning_2017.pdf) fazendo uma comparação entre o aprendizado utilizando Machine Learning e Deep Learning em um mesmo dataset, utilizando o tensorflow"
   ]
  },
  {
   "cell_type": "markdown",
   "metadata": {},
   "source": [
    "## Machine Learning\n",
    "Como definido por [M. Ponti e G. Costa](http://conteudo.icmc.usp.br/pessoas/moacir/papers/Ponti_Costa_Como-funciona-o-Deep-Learning_2017.pdf),  Machine Learning seriam técnicas de aprendiado mais \"rasas\" ou \"superficiais\" (do inglês *shallow*) as quais buscam diretamente por uma única função que possa, a parti de um conjunto de parâmetrôs, gerar o resultado desejado.\n",
    "\n",
    "$$ f(x) = f_L(... f_2(f_1(x_1))) $$"
   ]
  },
  {
   "cell_type": "code",
   "execution_count": 72,
   "metadata": {},
   "outputs": [
    {
     "name": "stdout",
     "output_type": "stream",
     "text": [
      "Extracting MINST_data/train-images-idx3-ubyte.gz\n",
      "Extracting MINST_data/train-labels-idx1-ubyte.gz\n",
      "Extracting MINST_data/t10k-images-idx3-ubyte.gz\n",
      "Extracting MINST_data/t10k-labels-idx1-ubyte.gz\n",
      "Acurácia 0.9105 %\n"
     ]
    }
   ],
   "source": [
    "import tensorflow as tf\n",
    "from tensorflow.examples.tutorials.mnist import input_data\n",
    "\n",
    "mnist = input_data.read_data_sets('MINST_data/',one_hot=True)\n",
    "\n",
    "# Variaveis (Matrizes e Vetores)\n",
    "X = tf.placeholder(tf.float32,[None,784]) # Batch de imagens X\n",
    "W = tf.Variable(tf.zeros([784,10])) # pesos\n",
    "b = tf.Variable(tf.zeros([10])) # bias\n",
    "Y = tf.placeholder(tf.float32, [None,10]) # Classes das Imagens X\n",
    "inicia = tf.initialize_all_variables()\n",
    "\n",
    "# modelo que irá gerar as pedrições com base nas imagnes vetorizadas\n",
    "# modelo de regressão linear: Y = W*X+b\n",
    "Y_ = tf.nn.softmax(tf.matmul(X, W)+b)\n",
    "\n",
    "# define função de custo (encropia cruzada)\n",
    "entropia_cruzada = -tf.reduce_sum(Y * tf.log(Y_ + 0.0001))\n",
    "\n",
    "# otimização com taxa de aprendizado 0.0025\n",
    "otimiza = tf.train.GradientDescentOptimizer(0.0025)\n",
    "treinamento = otimiza.minimize(entropia_cruzada)\n",
    "\n",
    "sess = tf.Session() # instancia sessão\n",
    "sess.run(inicia)    # executa sessao e inicializa\n",
    "\n",
    "# executa 1000 iterações\n",
    "for i in range(1000):\n",
    "    # carrega batch de 64 imagens(Y) e suas classes (Y)\n",
    "    batch_X, batch_Y = mnist.train.next_batch(64)\n",
    "    dados_treinamento = {X: batch_X, Y:batch_Y}\n",
    "    \n",
    "    # treina com o batch atual\n",
    "    sess.run(treinamento,feed_dict=dados_treinamento)\n",
    "    # computa entropia-cruzada para acompanhar convergencia\n",
    "    ce = sess.run(entropia_cruzada,feed_dict=dados_treinamento)\n",
    "\n",
    "predicao_correta = tf.equal(tf.argmax(Y,1),tf.argmax(Y_,1))\n",
    "acuracia = tf.reduce_mean(tf.cast(predicao_correta,tf.float32))\n",
    "\n",
    "print('Acurácia',sess.run(acuracia,feed_dict={X:mnist.test.images, \n",
    "                                              Y:mnist.test.labels}),'%')\n",
    "\n",
    "sess.close()"
   ]
  },
  {
   "cell_type": "markdown",
   "metadata": {},
   "source": [
    "## Deep Learning\n",
    "Já o Deep Learning que é um aprendizado profundo (do inglês *deep*), ou seja, são adicionados \"camadas\" que possuem seus próprios parâmetros e saídas para realizar a transformação dos dados de entrada, assim aprendendo sucessivas representações dos dadosm intemediárias, assim explica [M. Ponti e G. Costa](http://conteudo.icmc.usp.br/pessoas/moacir/papers/Ponti_Costa_Como-funciona-o-Deep-Learning_2017.pdf)\n",
    "\n",
    "$$ f_L(... f_2(f_1(x_1,W_1);W_2)...),W_L)$$"
   ]
  },
  {
   "cell_type": "code",
   "execution_count": 71,
   "metadata": {},
   "outputs": [
    {
     "name": "stdout",
     "output_type": "stream",
     "text": [
      "Extracting MINST_data/train-images-idx3-ubyte.gz\n",
      "Extracting MINST_data/train-labels-idx1-ubyte.gz\n",
      "Extracting MINST_data/t10k-images-idx3-ubyte.gz\n",
      "Extracting MINST_data/t10k-labels-idx1-ubyte.gz\n",
      "Acurácia 0.9746 %\n"
     ]
    }
   ],
   "source": [
    "import tensorflow as tf\n",
    "from tensorflow.examples.tutorials.mnist import input_data\n",
    "\n",
    "mnist = input_data.read_data_sets('MINST_data/',one_hot=True)\n",
    "\n",
    "# Variaveis (Matrizes e Vetores)\n",
    "X = tf.placeholder(tf.float32,[None,784]) # Batch de imagens X\n",
    "Y = tf.placeholder(tf.float32, [None,10]) # Classes das Imagens X\n",
    "\n",
    "# cria e inicializa aleatoriaente os pesos com distribuição normal e sigma=0.1\n",
    "W1 = tf.Variable(tf.truncated_normal([784,64], stddev=0.1))\n",
    "# bias são inicializadas com valores fixos 1/10\n",
    "B1 = tf.Variable(tf.ones([64])/10)\n",
    "\n",
    "W2 = tf.Variable(tf.truncated_normal([64,32], stddev=0.1))\n",
    "B2 = tf.Variable(tf.ones([32])/10)\n",
    "\n",
    "W3 = tf.Variable(tf.truncated_normal([32,10], stddev=0.1))\n",
    "B3 = tf.Variable(tf.zeros([10]))\n",
    "\n",
    "inicia = tf.initialize_all_variables()\n",
    "\n",
    "# modelos das representações intermediárias\n",
    "X1 = tf.nn.relu(tf.matmul(X,W1)+B1)\n",
    "X2 = tf.nn.relu(tf.matmul(X1,W2)+B2)\n",
    "\n",
    "# saída da rede ( a.k.a, logits)\n",
    "X3 = tf.matmul(X2,W3) + B3\n",
    "# classificação softmax\n",
    "Y_ = tf.nn.softmax(X3)\n",
    "\n",
    "# define função de custo (encropia cruzada)\n",
    "entr_cruz = -tf.reduce_sum(Y * tf.log(Y_ + 0.0001))\n",
    "\n",
    "# otimização com taxa de aprendizado 0.0025\n",
    "otimiza = tf.train.GradientDescentOptimizer(0.0025)\n",
    "treinamento = otimiza.minimize(entr_cruz)\n",
    "\n",
    "\n",
    "sess = tf.Session() # instancia sessão\n",
    "sess.run(inicia)    # executa sessao e inicializa\n",
    "\n",
    "# carrega batch de 64 imagens(Y) e suas classes (Y)\n",
    "for k in range(10000):\n",
    "    batch_X, batch_Y = mnist.train.next_batch(64)\n",
    "    dados_treinamento = {X: batch_X, Y:batch_Y}\n",
    "    \n",
    "    # computa entropia-cruzada para acompanhar convergencia\n",
    "    sess.run([treinamento,entr_cruz],feed_dict=dados_treinamento)\n",
    "\n",
    "predicao_correta = tf.equal(tf.argmax(Y,axis=1),tf.argmax(Y_,axis=1))\n",
    "acuracia = tf.reduce_mean(tf.cast(predicao_correta,tf.float32))\n",
    "\n",
    "print('Acurácia',sess.run(acuracia,feed_dict={X:mnist.test.images, \n",
    "                                              Y:mnist.test.labels}),'%')\n",
    "\n",
    "sess.close()"
   ]
  }
 ],
 "metadata": {
  "kernelspec": {
   "display_name": "Python 3",
   "language": "python",
   "name": "python3"
  },
  "language_info": {
   "codemirror_mode": {
    "name": "ipython",
    "version": 3
   },
   "file_extension": ".py",
   "mimetype": "text/x-python",
   "name": "python",
   "nbconvert_exporter": "python",
   "pygments_lexer": "ipython3",
   "version": "3.6.9"
  }
 },
 "nbformat": 4,
 "nbformat_minor": 4
}
